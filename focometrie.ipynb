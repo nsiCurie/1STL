{
 "cells": [
  {
   "cell_type": "markdown",
   "metadata": {},
   "source": [
    "# Comparaison des méthodes de mesures de la distance focale d'une lentille\n",
    "## Méthode d'autocollimation et méthode de Bessel\n",
    "\n",
    "\n",
    "#### Saisir ci-dessous les valeurs mesurées avec chacune des deux méthodes : valeurs notées avec le point et séparées par des virgules !\n",
    "#### Puis exécuter le programme en faisant SHIFT +ENTREE dans chaque cellule\n"
   ]
  },
  {
   "cell_type": "code",
   "execution_count": null,
   "metadata": {},
   "outputs": [],
   "source": [
    "f_autoll=[]\n",
    "f_Bessel=[]"
   ]
  },
  {
   "cell_type": "code",
   "execution_count": null,
   "metadata": {},
   "outputs": [],
   "source": [
    "# **********************   NE PAS MODIFIER   *******************************************************\n",
    "# coding: utf-8\n",
    "# In[3]:\n",
    "%matplotlib inline \n",
    "\n",
    "import matplotlib.pyplot as plt\n",
    "import numpy as np\n",
    "\n",
    "from tkinter import*\n",
    "from tkinter import messagebox\n",
    "from tkinter import Tk\n",
    "from tkinter.messagebox import showerror\n",
    "\n",
    "\n",
    "\n",
    "\n",
    "\n",
    "N_autocoll=len(f_autoll)\n",
    "N_Bessel=len(f_Bessel)\n",
    "\n",
    "if N_autocoll<2 and N_Bessel<2 :\n",
    "    Tk_Appli = Tk()\n",
    "    Tk_Appli.withdraw()\n",
    "    showerror(\"Saisie incomplète\", \"Vous n'avez pas saisi suffisamment de valeurs ! \\nAttention à utliser le point et non la virgule pour la saisie.\")\n",
    "    Tk_Appli.destroy()\n",
    "\n",
    "else:\n",
    "    f=plt.figure(figsize=(16,9))\n",
    "    ax = f.add_subplot(111)\n",
    "    f.patch.set_facecolor('#E0E0E0')\n",
    "    ax.patch.set_facecolor('#525354')\n",
    "\n",
    "    l1=f_autoll+f_Bessel\n",
    "    plt.hist([f_autoll, f_Bessel],align = 'mid', range=(min(l1),max(l1)),bins=1+int((max(l1)-min(l1))*10),color=['#51BFCC','#F7B01D'])\n",
    "    plt.ylabel('fréquence')\n",
    "    plt.xlabel('distance focale')\n",
    "    plt.grid(True)\n",
    "\n",
    "    \"\"\" Statistiques méthode d'autocollimation : \"\"\"\n",
    "    if N_autocoll>2 :\n",
    "        Moy_autocoll=np.mean(f_autoll)\n",
    "        Sexp_autocoll=np.std(f_autoll, ddof = 1)\n",
    "        Stat_autocoll= \"Autocollimatiion : \\n Nombre de valeurs :\"+ str(N_autocoll)+\"\\n Valeur à retenir : \" + str(Moy_autocoll) + \"\\n Ecart-type : \"+str(Sexp_autocoll)\n",
    "    else :\n",
    "        Stat_autocoll=\"Autocollimation : pas assez de valeurs\"\n",
    "    \"\"\"Statistiques méthode de Bessel : \"\"\"\n",
    "    if N_Bessel >1 :\n",
    "        Moy_Bessel=np.mean(f_Bessel)\n",
    "        Sexp_Bessel=np.std(f_Bessel, ddof = 1)\n",
    "        Stat_Bessel= \"Bessel : \\n Nombre de valeurs :\"+ str(N_Bessel)+\"\\n Valeur à retenir : \" + str(Moy_Bessel) + \"\\n Ecart-type : \"+str(Sexp_Bessel)\n",
    "    else :\n",
    "        Stat_Bessel=\"Bessel : pas assez de valeurs\"\n",
    "\n",
    "    plt.legend([Stat_autocoll,Stat_Bessel])\n",
    "    plt.title(\"Mesure d'une distance focale par différentes méthodes\")\n",
    "    plt.show()\n",
    "\n",
    "\n"
   ]
  },
  {
   "cell_type": "code",
   "execution_count": null,
   "metadata": {},
   "outputs": [],
   "source": []
  }
 ],
 "metadata": {
  "kernelspec": {
   "display_name": "Python 3",
   "language": "python",
   "name": "python3"
  },
  "language_info": {
   "codemirror_mode": {
    "name": "ipython",
    "version": 3
   },
   "file_extension": ".py",
   "mimetype": "text/x-python",
   "name": "python",
   "nbconvert_exporter": "python",
   "pygments_lexer": "ipython3",
   "version": "3.7.1"
  }
 },
 "nbformat": 4,
 "nbformat_minor": 2
}
